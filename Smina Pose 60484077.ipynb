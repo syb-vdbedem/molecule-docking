{
 "cells": [
  {
   "cell_type": "code",
   "execution_count": 1,
   "id": "b8d4ecf0",
   "metadata": {},
   "outputs": [],
   "source": [
    "from rdkit import Chem\n",
    "from rdkit.Chem import AllChem\n",
    "import pandas as pd"
   ]
  },
  {
   "cell_type": "code",
   "execution_count": 2,
   "id": "595a387e",
   "metadata": {},
   "outputs": [],
   "source": [
    "best_smina = Chem.SDMolSupplier('/Users/sybrenvandenbedem/Documents/Stanford Internship/Smina/Smina Docking/second100k_out.sdf')"
   ]
  },
  {
   "cell_type": "code",
   "execution_count": 3,
   "id": "ea5bc249",
   "metadata": {},
   "outputs": [
    {
     "data": {
      "text/plain": [
       "<rdkit.Chem.rdmolfiles.SDMolSupplier at 0x7fbf7d470af0>"
      ]
     },
     "execution_count": 3,
     "metadata": {},
     "output_type": "execute_result"
    }
   ],
   "source": [
    "best_smina"
   ]
  },
  {
   "cell_type": "code",
   "execution_count": 4,
   "id": "a1345b67",
   "metadata": {},
   "outputs": [],
   "source": [
    "mols = [p for p in best_smina if p.GetProp('_Name') == '60484077']"
   ]
  },
  {
   "cell_type": "code",
   "execution_count": 5,
   "id": "ccc3586c",
   "metadata": {},
   "outputs": [
    {
     "data": {
      "text/plain": [
       "9"
      ]
     },
     "execution_count": 5,
     "metadata": {},
     "output_type": "execute_result"
    }
   ],
   "source": [
    "len(mols)"
   ]
  },
  {
   "cell_type": "code",
   "execution_count": 6,
   "id": "dd20ac90",
   "metadata": {},
   "outputs": [],
   "source": [
    "w = Chem.SDWriter('smina_60484077_ligand.sdf')\n",
    "for m in mols:\n",
    "    w.write(m)"
   ]
  },
  {
   "cell_type": "code",
   "execution_count": 7,
   "id": "50bc4980",
   "metadata": {},
   "outputs": [],
   "source": [
    "best_gnina = Chem.SDMolSupplier('/Users/sybrenvandenbedem/Documents/Stanford Internship/Smina/second100k_out_best_gnina.sdf')"
   ]
  },
  {
   "cell_type": "code",
   "execution_count": 8,
   "id": "cfd4cc8c",
   "metadata": {},
   "outputs": [
    {
     "data": {
      "text/plain": [
       "207"
      ]
     },
     "execution_count": 8,
     "metadata": {},
     "output_type": "execute_result"
    }
   ],
   "source": [
    "len(best_gnina)"
   ]
  },
  {
   "cell_type": "code",
   "execution_count": 9,
   "id": "2d219cdc",
   "metadata": {},
   "outputs": [],
   "source": [
    "mols = [p for p in best_gnina if p.GetProp('_Name') == '60484077']"
   ]
  },
  {
   "cell_type": "code",
   "execution_count": 10,
   "id": "d1488cfc",
   "metadata": {},
   "outputs": [
    {
     "data": {
      "text/plain": [
       "18"
      ]
     },
     "execution_count": 10,
     "metadata": {},
     "output_type": "execute_result"
    }
   ],
   "source": [
    "len(mols)"
   ]
  },
  {
   "cell_type": "code",
   "execution_count": 11,
   "id": "f01f44da",
   "metadata": {},
   "outputs": [],
   "source": [
    "w = Chem.SDWriter('gnina_60484077_ligand.sdf')\n",
    "for m in mols:\n",
    "    w.write(m)"
   ]
  },
  {
   "cell_type": "code",
   "execution_count": null,
   "id": "5a5e4c0e",
   "metadata": {},
   "outputs": [],
   "source": []
  }
 ],
 "metadata": {
  "kernelspec": {
   "display_name": "Python 3 (ipykernel)",
   "language": "python",
   "name": "python3"
  },
  "language_info": {
   "codemirror_mode": {
    "name": "ipython",
    "version": 3
   },
   "file_extension": ".py",
   "mimetype": "text/x-python",
   "name": "python",
   "nbconvert_exporter": "python",
   "pygments_lexer": "ipython3",
   "version": "3.7.7"
  }
 },
 "nbformat": 4,
 "nbformat_minor": 5
}
